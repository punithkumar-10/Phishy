{
 "cells": [
  {
   "cell_type": "code",
   "execution_count": 2,
   "metadata": {},
   "outputs": [],
   "source": [
    "# Load model directly\n",
    "from transformers import AutoTokenizer, AutoModelForSequenceClassification\n",
    "\n",
    "tokenizer = AutoTokenizer.from_pretrained(\"bert-finetuned-phishing\")\n",
    "model = AutoModelForSequenceClassification.from_pretrained(\"bert-finetuned-phishing\")"
   ]
  },
  {
   "cell_type": "code",
   "execution_count": 6,
   "metadata": {},
   "outputs": [
    {
     "name": "stdout",
     "output_type": "stream",
     "text": [
      "Accuracy: 0.98989898989899\n",
      "Precision: 1.0\n",
      "Recall: 0.98989898989899\n",
      "F1 Score: 0.9949238578680204\n"
     ]
    }
   ],
   "source": [
    "import json\n",
    "import torch\n",
    "from sklearn.metrics import accuracy_score, precision_recall_fscore_support\n",
    "from transformers import AutoTokenizer, AutoModelForSequenceClassification\n",
    "\n",
    "\n",
    "# Load the dataset from the JSON file\n",
    "with open(\"val.json\", \"r\") as f:\n",
    "    data = json.load(f)\n",
    "\n",
    "# Extract texts and labels from the dataset\n",
    "texts = [item['text'] for item in data]\n",
    "labels = [item['label'] for item in data]\n",
    "\n",
    "# Tokenize the texts\n",
    "inputs = tokenizer(texts, padding=True, truncation=True, return_tensors=\"pt\")\n",
    "\n",
    "# Make predictions\n",
    "model.eval()\n",
    "with torch.no_grad():\n",
    "    outputs = model(**inputs)\n",
    "    predictions = torch.argmax(outputs.logits, dim=1)\n",
    "\n",
    "# Calculate accuracy\n",
    "accuracy = accuracy_score(labels, predictions.numpy())\n",
    "\n",
    "# Calculate other metrics with zero_division parameter\n",
    "precision, recall, f1, _ = precision_recall_fscore_support(labels, predictions.numpy(), average='weighted', zero_division=0)\n",
    "\n",
    "# Print metrics\n",
    "print(f\"Accuracy: {accuracy}\")\n",
    "print(f\"Precision: {precision}\")\n",
    "print(f\"Recall: {recall}\")\n",
    "print(f\"F1 Score: {f1}\")\n"
   ]
  }
 ],
 "metadata": {
  "language_info": {
   "name": "python"
  }
 },
 "nbformat": 4,
 "nbformat_minor": 2
}
